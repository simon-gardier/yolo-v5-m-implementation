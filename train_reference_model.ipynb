{
  "cells": [
    {
      "cell_type": "markdown",
      "id": "f2d33e5c",
      "metadata": {
        "id": "f2d33e5c"
      },
      "source": [
        "# Imports"
      ]
    },
    {
      "cell_type": "code",
      "execution_count": null,
      "id": "3f632d8a",
      "metadata": {
        "colab": {
          "base_uri": "https://localhost:8080/"
        },
        "id": "3f632d8a",
        "outputId": "38146712-def7-459c-d5cc-77ad4917b217"
      },
      "outputs": [],
      "source": [
        "!pip3 install wandb matplotlib torch torchviz torchvision torchsummary torchviz weave nbformat netron onnx roboflow scikit-learn roboflow netron ultralytics --quiet\n",
        "\n",
        "import os\n",
        "from os import path\n",
        "import json\n",
        "import random\n",
        "import math\n",
        "import matplotlib.pyplot as plt\n",
        "import matplotlib.patches as patches\n",
        "import numpy as np\n",
        "import torch\n",
        "import torch.nn as nn\n",
        "import torch.nn.functional as F\n",
        "import torch.optim as optim\n",
        "import torch.optim.lr_scheduler as lr_scheduler\n",
        "import torch.utils.data as data\n",
        "from PIL import Image, ImageDraw\n",
        "from torchvision import datasets, transforms, utils\n",
        "import wandb\n",
        "import netron\n",
        "from roboflow import Roboflow\n",
        "import ultralytics"
      ]
    },
    {
      "cell_type": "markdown",
      "id": "633e6c21",
      "metadata": {
        "id": "633e6c21"
      },
      "source": [
        "# Utils"
      ]
    },
    {
      "cell_type": "code",
      "execution_count": null,
      "id": "eb71afcc",
      "metadata": {
        "id": "eb71afcc"
      },
      "outputs": [],
      "source": [
        "def show_image(img):\n",
        "    plt.imshow(transforms.functional.to_pil_image(img))\n",
        "    plt.show()\n",
        "\n",
        "def collate_fn(batch):\n",
        "    images, labels = zip(*batch)\n",
        "    images = torch.stack(images, dim=0)\n",
        "    return images, labels\n",
        "\n",
        "def show_image_with_labels(image, labels, class_names=None):\n",
        "    image_np = image.permute(1, 2, 0).numpy()\n",
        "    h, w, _ = image_np.shape\n",
        "\n",
        "    fig, ax = plt.subplots(1, figsize=(8, 8))\n",
        "    ax.imshow(image_np)\n",
        "\n",
        "    for label in labels:\n",
        "        class_id, x_center, y_center, bw, bh = label.tolist()\n",
        "        x = (x_center - bw / 2) * w\n",
        "        y = (y_center - bh / 2) * h\n",
        "        box_w = bw * w\n",
        "        box_h = bh * h\n",
        "        rect = patches.Rectangle((x, y), box_w, box_h, linewidth=2, edgecolor='red', facecolor='none')\n",
        "        ax.add_patch(rect)\n",
        "        if class_names:\n",
        "            class_text = class_names[int(class_id)]\n",
        "        else:\n",
        "            class_text = str(int(class_id))\n",
        "        ax.text(x, y - 5, class_text, color='white', fontsize=12,bbox=dict(facecolor='red', alpha=0.5, pad=2))\n",
        "    plt.axis('off')\n",
        "    plt.show()\n",
        "\n",
        "random.seed(42)\n",
        "np.random.seed(42)"
      ]
    },
    {
      "cell_type": "markdown",
      "id": "efc932fe",
      "metadata": {
        "id": "efc932fe"
      },
      "source": [
        "# Dataset"
      ]
    },
    {
      "cell_type": "code",
      "execution_count": null,
      "id": "e9935014",
      "metadata": {
        "id": "e9935014"
      },
      "outputs": [],
      "source": [
        "import os\n",
        "from PIL import Image\n",
        "from os import path\n",
        "import torch\n",
        "from torch.utils.data import Dataset\n",
        "from torchvision import transforms\n",
        "\n",
        "class MinecraftV1(Dataset):\n",
        "    def __init__(self, root, train=True, valid=False, transform=None):\n",
        "        super().__init__()\n",
        "        self.root = root\n",
        "        self.train = train\n",
        "        self.valid = valid\n",
        "        self.transform = transform\n",
        "\n",
        "        if train:\n",
        "            self.data_path = os.path.join(root, 'train')\n",
        "        elif valid:\n",
        "            self.data_path = os.path.join(root, 'valid')\n",
        "        else:\n",
        "            self.data_path = os.path.join(root, 'test')\n",
        "\n",
        "        self.images_path = os.path.join(self.data_path, 'images')\n",
        "        self.labels_path = os.path.join(self.data_path, 'labels')\n",
        "        self.data_images = []\n",
        "        self.data_labels = []\n",
        "        image_files = sorted(os.listdir(self.images_path))\n",
        "        label_files = sorted(os.listdir(self.labels_path))\n",
        "        for image_file in image_files:\n",
        "            image_path = os.path.join(self.images_path, image_file)\n",
        "            self.data_images.append(image_path)\n",
        "\n",
        "        for label_file in label_files:\n",
        "            label_path = os.path.join(self.labels_path, label_file)\n",
        "            self.data_labels.append(label_path)\n",
        "\n",
        "    def __len__(self):\n",
        "        return len(self.data_images)\n",
        "\n",
        "    def __getitem__(self, idx):\n",
        "        image_path = self.data_images[idx]\n",
        "        label_path = self.data_labels[idx]\n",
        "\n",
        "        image = Image.open(image_path).convert('RGB')\n",
        "        if self.transform:\n",
        "            image = self.transform(image)\n",
        "        with open(label_path, 'r') as file:\n",
        "            lines = file.readlines()\n",
        "        labels = [list(map(float, line.strip().split())) for line in lines]\n",
        "        labels = torch.tensor(labels, dtype=torch.float32)\n",
        "        return image, labels\n",
        "\n",
        "class AddGaussianNoise(object):\n",
        "    def __init__(self, mean=0., std=0.05):\n",
        "        self.mean = mean\n",
        "        self.std = std\n",
        "\n",
        "    def __call__(self, tensor):\n",
        "        return tensor + torch.randn_like(tensor) * self.std + self.mean\n",
        "\n",
        "    def __repr__(self):\n",
        "        return f\"{self.__class__.__name__}(mean={self.mean}, std={self.std})\""
      ]
    },
    {
      "cell_type": "code",
      "execution_count": null,
      "id": "7cfbe975",
      "metadata": {
        "colab": {
          "base_uri": "https://localhost:8080/"
        },
        "id": "7cfbe975",
        "outputId": "b1cf3a52-f55c-4b5d-db2c-22716dc5db4f"
      },
      "outputs": [],
      "source": [
        "from roboflow import Roboflow\n",
        "\n",
        "classes_types = {\n",
        "    0: 'gold_ore',\n",
        "    1: 'iron_ore',\n",
        "    2: 'diamond_ore',\n",
        "    3: 'redstone_ore',\n",
        "    4: 'deepslate_iron_ore'\n",
        "}\n",
        "classes_number = len(classes_types)\n",
        "\n",
        "dataset_dir = \"minecraft-ore-1\"\n",
        "rf = Roboflow(api_key=\"bVvy50uMbWp85HBSLUkm\")\n",
        "project = rf.workspace(\"oblig10\").project(\"minecraft-ore\")\n",
        "version = project.version(1)\n",
        "dataset = version.download(\"yolov5\")\n",
        "\n",
        "file_path_label = \"minecraft-ore-1/valid/labels/2024-04-25_19-38-10_png_jpg.rf.627bb52ce40ad0431564b93df2aa900f.txt\"\n",
        "file_path_image = \"minecraft-ore-1/valid/images/2024-04-25_19-38-10_png_jpg.rf.627bb52ce40ad0431564b93df2aa900f.jpg\"\n",
        "if os.path.exists(file_path_label):\n",
        "    os.remove(file_path_label)\n",
        "    print(f\"Deleted: {file_path_label}\")\n",
        "if os.path.exists(file_path_image):\n",
        "    os.remove(file_path_image)\n",
        "    print(f\"Deleted: {file_path_image}\")\n",
        "\n",
        "basic_transform = transforms.Compose([\n",
        "    transforms.Resize((640, 640)),\n",
        "    transforms.ToTensor(),\n",
        "])\n",
        "\n",
        "augmented_transform = transforms.Compose([\n",
        "    transforms.Resize((640, 640)),\n",
        "    transforms.ColorJitter(brightness=0.3, contrast=0.3, saturation=0.2, hue=0.05),\n",
        "    transforms.RandomHorizontalFlip(),\n",
        "    transforms.GaussianBlur(kernel_size=3, sigma=(0.1, 2.0)),\n",
        "    transforms.ToTensor(),\n",
        "    AddGaussianNoise(0., 0.03)\n",
        "])\n",
        "\n",
        "mc_train = MinecraftV1(root=os.path.join(os.getcwd(), \"minecraft-ore-1\"), transform=augmented_transform)\n",
        "mc_test = MinecraftV1(root=os.path.join(os.getcwd(), \"minecraft-ore-1\"), train=False, transform=basic_transform)\n",
        "mc_valid = MinecraftV1(root=os.path.join(os.getcwd(), \"minecraft-ore-1\"), train=False, valid=True, transform=basic_transform)\n",
        "trainloader = data.DataLoader(mc_train, batch_size=4, shuffle=False, collate_fn=collate_fn, num_workers=0)\n",
        "validloader = data.DataLoader(mc_valid, batch_size=4, shuffle=True, collate_fn=collate_fn, num_workers=0)\n",
        "testloader = data.DataLoader(mc_test, batch_size=4, shuffle=True, collate_fn=collate_fn, num_workers=0)"
      ]
    },
    {
      "cell_type": "markdown",
      "id": "8cf4e5da",
      "metadata": {
        "id": "8cf4e5da"
      },
      "source": [
        "## Visualization"
      ]
    },
    {
      "cell_type": "code",
      "execution_count": null,
      "id": "1387cae8",
      "metadata": {
        "colab": {
          "base_uri": "https://localhost:8080/",
          "height": 1000
        },
        "id": "1387cae8",
        "outputId": "9e9706c3-8f53-45da-df28-e25dc80a1b0e"
      },
      "outputs": [],
      "source": [
        "images, labels = next(iter(trainloader))\n",
        "for i in range(4):\n",
        "    show_image_with_labels(images[i], labels[i], class_names=classes_types)"
      ]
    },
    {
      "cell_type": "markdown",
      "id": "d3e97a18",
      "metadata": {
        "id": "d3e97a18"
      },
      "source": [
        "# Training"
      ]
    },
    {
      "cell_type": "code",
      "execution_count": null,
      "id": "e6ca10a5",
      "metadata": {
        "colab": {
          "base_uri": "https://localhost:8080/"
        },
        "id": "e6ca10a5",
        "outputId": "6e2bbaba-1fb9-4047-d50b-6cbd3fa9e2b7"
      },
      "outputs": [],
      "source": [
        "from ultralytics import YOLO\n",
        "import torch\n",
        "\n",
        "def get_device():\n",
        "    if torch.cuda.is_available():\n",
        "        return torch.device(\"cuda\")\n",
        "    else:\n",
        "        return torch.device(\"cpu\")\n",
        "\n",
        "device = get_device()\n",
        "print(f\"Using device: {device}\")\n",
        "\n",
        "model = YOLO('yolov5m.yaml')\n",
        "\n",
        "results = model.train(\n",
        "    data=\"minecraft-ore-1/data.yaml\",\n",
        "    epochs=20,\n",
        "    imgsz=640,\n",
        "    batch=4,\n",
        "    workers=2,\n",
        "    device=0 if torch.cuda.is_available() else \"cpu\"\n",
        ")\n",
        "model.save(\"yolov5m_trained.pt\")"
      ]
    },
    {
      "cell_type": "markdown",
      "id": "1db8a1aa",
      "metadata": {
        "id": "1db8a1aa"
      },
      "source": [
        "# Results"
      ]
    },
    {
      "cell_type": "code",
      "execution_count": null,
      "id": "8dbe997c",
      "metadata": {
        "id": "8dbe997c"
      },
      "outputs": [],
      "source": [
        "def load_model(model, model_path):\n",
        "    \"\"\"Load a model from a .pth file.\"\"\"\n",
        "    model.load_state_dict(torch.load(model_path, map_location=device))\n",
        "    model.to(device)\n",
        "    model.eval()\n",
        "    return model\n"
      ]
    },
    {
      "cell_type": "code",
      "execution_count": null,
      "id": "RIKO2yBW35Gz",
      "metadata": {
        "colab": {
          "base_uri": "https://localhost:8080/",
          "height": 705
        },
        "id": "RIKO2yBW35Gz",
        "outputId": "b782e82f-be61-48f7-ffac-8e5649a97db4"
      },
      "outputs": [],
      "source": [
        "import random\n",
        "import matplotlib.pyplot as plt\n",
        "import matplotlib.patches as patches\n",
        "\n",
        "model_path = \"yolov5m_trained.pt\"\n",
        "model = YOLO(model_path)\n",
        "mc_test = MinecraftV1(root=os.path.join(os.getcwd(), \"minecraft-ore-1\"), train=False, transform=basic_transform)\n",
        "testloader = data.DataLoader(mc_test, batch_size=4, shuffle=False, collate_fn=collate_fn, num_workers=0)\n",
        "\n",
        "img_idx = random.randint(0, len(mc_test) - 1)\n",
        "img, _ = mc_test[img_idx]\n",
        "results = model(img.unsqueeze(0))\n",
        "\n",
        "# Get predictions for the first image in the batch\n",
        "pred = results[0]\n",
        "boxes = pred.boxes.xyxy.cpu().numpy()  # (x1, y1, x2, y2)\n",
        "scores = pred.boxes.conf.cpu().numpy()\n",
        "classes = pred.boxes.cls.cpu().numpy()\n",
        "\n",
        "# Convert tensor image to numpy for display\n",
        "img_np = img.permute(1, 2, 0).cpu().numpy()\n",
        "fig, ax = plt.subplots(1, figsize=(8, 8))\n",
        "ax.imshow(img_np)\n",
        "\n",
        "for box, cls, score in zip(boxes, classes, scores):\n",
        "    x1, y1, x2, y2 = box\n",
        "    rect = patches.Rectangle((x1, y1), x2-x1, y2-y1, linewidth=2, edgecolor='red', facecolor='none')\n",
        "    ax.add_patch(rect)\n",
        "    class_name = classes_types.get(int(cls), str(int(cls)))\n",
        "    ax.text(x1, y1 - 5, f\"{class_name} ({score:.2f})\", color='white', fontsize=12,\n",
        "            bbox=dict(facecolor='red', alpha=0.5, pad=2))\n",
        "plt.axis('off')\n",
        "plt.show()"
      ]
    },
    {
      "cell_type": "markdown",
      "id": "25b38edc",
      "metadata": {
        "id": "25b38edc"
      },
      "source": [
        "# Evaluate"
      ]
    },
    {
      "cell_type": "code",
      "execution_count": null,
      "id": "0c1ebb1a",
      "metadata": {
        "colab": {
          "base_uri": "https://localhost:8080/"
        },
        "id": "0c1ebb1a",
        "outputId": "2b43312e-152c-466e-cb26-096ec3cff67a"
      },
      "outputs": [],
      "source": [
        "results = model.val(\n",
        "    data=\"minecraft-ore-1/data.yaml\",\n",
        "    split=\"val\",\n",
        "    imgsz=640,\n",
        "    batch=4,\n",
        "    device=0 if torch.cuda.is_available() else \"cpu\"\n",
        ")\n",
        "\n",
        "for class_id in range(len(classes_types)):\n",
        "    precision, recall, f1, ap50 = results.class_result(class_id)\n",
        "    class_name = classes_types.get(class_id, str(class_id))\n",
        "    print(f\"{class_name}: Precision={precision:.3f}, Recall={recall:.3f}, F1={f1:.3f}, mAP50={ap50:.3f}\")\n"
      ]
    }
  ],
  "metadata": {
    "accelerator": "GPU",
    "colab": {
      "gpuType": "A100",
      "machine_shape": "hm",
      "provenance": []
    },
    "kernelspec": {
      "display_name": "info8010",
      "language": "python",
      "name": "python3"
    },
    "language_info": {
      "codemirror_mode": {
        "name": "ipython",
        "version": 3
      },
      "file_extension": ".py",
      "mimetype": "text/x-python",
      "name": "python",
      "nbconvert_exporter": "python",
      "pygments_lexer": "ipython3",
      "version": "3.13.2"
    }
  },
  "nbformat": 4,
  "nbformat_minor": 5
}
